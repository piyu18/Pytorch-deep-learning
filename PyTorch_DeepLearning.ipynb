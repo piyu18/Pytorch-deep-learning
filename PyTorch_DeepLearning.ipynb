{
  "nbformat": 4,
  "nbformat_minor": 0,
  "metadata": {
    "colab": {
      "provenance": [],
      "authorship_tag": "ABX9TyMxsHqfqejWR29CiQgtIwmT",
      "include_colab_link": true
    },
    "kernelspec": {
      "name": "python3",
      "display_name": "Python 3"
    },
    "language_info": {
      "name": "python"
    }
  },
  "cells": [
    {
      "cell_type": "markdown",
      "metadata": {
        "id": "view-in-github",
        "colab_type": "text"
      },
      "source": [
        "<a href=\"https://colab.research.google.com/github/piyu18/Pytorch-deep-learning/blob/main/PyTorch_DeepLearning.ipynb\" target=\"_parent\"><img src=\"https://colab.research.google.com/assets/colab-badge.svg\" alt=\"Open In Colab\"/></a>"
      ]
    },
    {
      "cell_type": "code",
      "execution_count": 1,
      "metadata": {
        "colab": {
          "base_uri": "https://localhost:8080/",
          "height": 36
        },
        "id": "nnyPlyxZNHOe",
        "outputId": "8fc1612a-2a3a-4631-9fb6-4657c08fcae8"
      },
      "outputs": [
        {
          "output_type": "execute_result",
          "data": {
            "text/plain": [
              "'1.12.1+cu113'"
            ],
            "application/vnd.google.colaboratory.intrinsic+json": {
              "type": "string"
            }
          },
          "metadata": {},
          "execution_count": 1
        }
      ],
      "source": [
        "# Import libraries\n",
        "import torch\n",
        "from torch import nn \n",
        "import matplotlib.pyplot as plt\n",
        "\n",
        "# Check PyTorch version\n",
        "torch.__version__"
      ]
    },
    {
      "cell_type": "markdown",
      "source": [
        "### Data Preparation\n",
        "Let's create some dummy data for linear regression, `y = mX+b`"
      ],
      "metadata": {
        "id": "y3t51-WtPBHY"
      }
    },
    {
      "cell_type": "code",
      "source": [
        "weight = 0.5 # m value in y = mX+b\n",
        "bias = 0.3 # b\n",
        "start = 0\n",
        "end = 1\n",
        "step = 0.02\n",
        "X = torch.arange(start, end, step).unsqueeze(dim=1)\n",
        "y = weight * X + bias\n",
        "X[:10], y[:10]"
      ],
      "metadata": {
        "colab": {
          "base_uri": "https://localhost:8080/"
        },
        "id": "jExM3ZD3P_zJ",
        "outputId": "5e90741e-2525-4737-f376-f7f41521f0d0"
      },
      "execution_count": 2,
      "outputs": [
        {
          "output_type": "execute_result",
          "data": {
            "text/plain": [
              "(tensor([[0.0000],\n",
              "         [0.0200],\n",
              "         [0.0400],\n",
              "         [0.0600],\n",
              "         [0.0800],\n",
              "         [0.1000],\n",
              "         [0.1200],\n",
              "         [0.1400],\n",
              "         [0.1600],\n",
              "         [0.1800]]), tensor([[0.3000],\n",
              "         [0.3100],\n",
              "         [0.3200],\n",
              "         [0.3300],\n",
              "         [0.3400],\n",
              "         [0.3500],\n",
              "         [0.3600],\n",
              "         [0.3700],\n",
              "         [0.3800],\n",
              "         [0.3900]]))"
            ]
          },
          "metadata": {},
          "execution_count": 2
        }
      ]
    },
    {
      "cell_type": "code",
      "source": [
        "len(X), len(y)"
      ],
      "metadata": {
        "colab": {
          "base_uri": "https://localhost:8080/"
        },
        "id": "iyXlEVHmRSVi",
        "outputId": "81120c6c-b9c6-4dd8-ac7d-b397c16d58d6"
      },
      "execution_count": 3,
      "outputs": [
        {
          "output_type": "execute_result",
          "data": {
            "text/plain": [
              "(50, 50)"
            ]
          },
          "metadata": {},
          "execution_count": 3
        }
      ]
    },
    {
      "cell_type": "markdown",
      "source": [
        "### Train Test Split"
      ],
      "metadata": {
        "id": "eQ8cmsI7Rucc"
      }
    },
    {
      "cell_type": "code",
      "source": [
        "from sklearn.model_selection import train_test_split\n",
        "X_train, X_test, y_train, y_test = train_test_split(X, y, test_size=0.2, random_state=13)"
      ],
      "metadata": {
        "id": "fsFuDbp1TE9J"
      },
      "execution_count": 4,
      "outputs": []
    },
    {
      "cell_type": "code",
      "source": [
        "def plt_predictions(train_data=X_train,\n",
        "                    train_label=y_train,\n",
        "                    test_data=X_test,\n",
        "                    test_label=y_test,\n",
        "                    predictions=None):\n",
        "  '''\n",
        "  Plt training_data, test data and compare predictions\n",
        "  '''\n",
        "  plt.figure(figsize=(8,6))\n",
        "  # Plot training data in blue\n",
        "  plt.scatter(train_data, train_label, c='b', s=6, label='Train data')\n",
        "\n",
        "  # Plot test data in green\n",
        "  plt.scatter(test_data, test_label, c='g', s=6, label='Test data')\n",
        "\n",
        "  # If prediction is there\n",
        "  if predictions is not None:\n",
        "    plt.scatter(test_data, predictions, c='r', s=6, label='Predictions')\n",
        "  \n",
        "  plt.legend(prop={\"size\": 16})"
      ],
      "metadata": {
        "id": "QgYb5YRTTE2Z"
      },
      "execution_count": 5,
      "outputs": []
    },
    {
      "cell_type": "code",
      "source": [
        "plt_predictions()"
      ],
      "metadata": {
        "colab": {
          "base_uri": "https://localhost:8080/",
          "height": 374
        },
        "id": "99j6Vv09TE0A",
        "outputId": "4c24471b-4f83-4e2d-a520-cdaaddff50a1"
      },
      "execution_count": 6,
      "outputs": [
        {
          "output_type": "display_data",
          "data": {
            "text/plain": [
              "<Figure size 576x432 with 1 Axes>"
            ],
            "image/png": "[encoded data removed]"
          },
          "metadata": {
            "needs_background": "light"
          }
        }
      ]
    },
    {
      "cell_type": "markdown",
      "source": [
        "### PyTorch Modules\n",
        "| PyTorch module | Use |\n",
        "| ----- | ----- |\n",
        "| `torch.nn` | It contains all the building blocks for computational graph |\n",
        "| `torch.nn.Parameter` | It stores tensors that can be used with nn.Module. If the parameter requires gradient then `requires_grad=True`, default is True |\n",
        "| `torch.nn.Module` | It is the base class for all NN Module, all the building blocks for NN are subclasses.  If you're building a neural network in PyTorch, your models should subclass nn.Module. Requires a forward() method be implemented. |\n",
        "|`torch.optim` | It contains various optimization algorithms|\n",
        "\n"
      ],
      "metadata": {
        "id": "JlwEcYiXfQ4O"
      }
    },
    {
      "cell_type": "markdown",
      "source": [
        "### Build Model"
      ],
      "metadata": {
        "id": "e4CpwYz8TExU"
      }
    },
    {
      "cell_type": "code",
      "source": [
        "# Linear Regression Model Class\n",
        "class LinearRegressionModel(nn.Module): # nn.Module is the base class for all NN Modules\n",
        "  def __init__(self):\n",
        "    super().__init__()\n",
        "    self.weights = nn.Parameter(torch.randn(1, # start with random weights\n",
        "        requires_grad=True, # if gradient is required\n",
        "        dtype=torch.float32 # default is float32\n",
        "    ))\n",
        "\n",
        "    self.bias = nn.Parameter(torch.randn(1, # start with random weights\n",
        "        requires_grad=True, # if gradient is required\n",
        "        dtype=torch.float32 # default is float32\n",
        "    ))\n",
        "\n",
        "  # Forward defines the computation in the model\n",
        "  def forward(self, x: torch.Tensor) -> torch.Tensor: # \"x\" is the input data (e.g. training/testing features)\n",
        "     return self.weights * x + self.bias # it's linear regression formula (y = m*x + b)\n"
      ],
      "metadata": {
        "id": "-dbNEgpgR4CK"
      },
      "execution_count": 7,
      "outputs": []
    },
    {
      "cell_type": "markdown",
      "source": [
        "### Check the content of the Model"
      ],
      "metadata": {
        "id": "9IOeWholx-X6"
      }
    },
    {
      "cell_type": "code",
      "source": [
        "# Set manual seed\n",
        "torch.manual_seed(42)\n",
        "\n",
        "# Create an instance of the model\n",
        "model_1 = LinearRegressionModel()\n",
        "\n",
        "# Check the parameters\n",
        "model_1.parameters() # gives generator object\n",
        "\n",
        "list(model_1.parameters())"
      ],
      "metadata": {
        "colab": {
          "base_uri": "https://localhost:8080/"
        },
        "id": "LRCqiwbk1kvI",
        "outputId": "6235e857-1ebc-43a9-e474-fe6fe72cd729"
      },
      "execution_count": 8,
      "outputs": [
        {
          "output_type": "execute_result",
          "data": {
            "text/plain": [
              "[Parameter containing:\n",
              " tensor([0.3367], requires_grad=True), Parameter containing:\n",
              " tensor([0.1288], requires_grad=True)]"
            ]
          },
          "metadata": {},
          "execution_count": 8
        }
      ]
    },
    {
      "cell_type": "markdown",
      "source": [
        "We can also get what model contains using `state_dict()`"
      ],
      "metadata": {
        "id": "I9abBFWV1krt"
      }
    },
    {
      "cell_type": "code",
      "source": [
        "model_1.state_dict()"
      ],
      "metadata": {
        "colab": {
          "base_uri": "https://localhost:8080/"
        },
        "id": "gO6Gg_321koP",
        "outputId": "8c70d079-fc89-4237-d5f6-2b17c05903d0"
      },
      "execution_count": 9,
      "outputs": [
        {
          "output_type": "execute_result",
          "data": {
            "text/plain": [
              "OrderedDict([('weights', tensor([0.3367])), ('bias', tensor([0.1288]))])"
            ]
          },
          "metadata": {},
          "execution_count": 9
        }
      ]
    },
    {
      "cell_type": "markdown",
      "source": [
        "### Make Prediction using `torch.inference_mode()`"
      ],
      "metadata": {
        "id": "AmsIaAVB1kmq"
      }
    },
    {
      "cell_type": "code",
      "source": [
        "# Make prediction with the model\n",
        "with torch.inference_mode(): \n",
        "    y_preds = model_1(X_test)"
      ],
      "metadata": {
        "id": "sUBiiCVg1klQ"
      },
      "execution_count": 10,
      "outputs": []
    },
    {
      "cell_type": "code",
      "source": [
        "\n",
        "# Check the predictions\n",
        "print(f\"Number of testing samples: {len(X_test)}\") \n",
        "print(f\"Number of predictions made: {len(y_preds)}\")\n",
        "print(f\"Predicted values:\\n{y_preds}\")"
      ],
      "metadata": {
        "colab": {
          "base_uri": "https://localhost:8080/"
        },
        "id": "5iCvOonj1kir",
        "outputId": "ab863bdb-323b-4a90-9949-f03e962bb33d"
      },
      "execution_count": 11,
      "outputs": [
        {
          "output_type": "stream",
          "name": "stdout",
          "text": [
            "Number of testing samples: 10\n",
            "Number of predictions made: 10\n",
            "Predicted values:\n",
            "tensor([[0.4184],\n",
            "        [0.1557],\n",
            "        [0.2635],\n",
            "        [0.4386],\n",
            "        [0.1288],\n",
            "        [0.2231],\n",
            "        [0.3712],\n",
            "        [0.3174],\n",
            "        [0.2904],\n",
            "        [0.1692]])\n"
          ]
        }
      ]
    },
    {
      "cell_type": "code",
      "source": [
        "plt_predictions(predictions=y_preds)"
      ],
      "metadata": {
        "colab": {
          "base_uri": "https://localhost:8080/",
          "height": 374
        },
        "id": "Uhbb2rAN1kgr",
        "outputId": "ab27acf5-9af7-4f32-e4cf-ab357fd6d561"
      },
      "execution_count": 12,
      "outputs": [
        {
          "output_type": "display_data",
          "data": {
            "text/plain": [
              "<Figure size 576x432 with 1 Axes>"
            ],
            "image/png": "[encoded data removed]"
          },
          "metadata": {
            "needs_background": "light"
          }
        }
      ]
    },
    {
      "cell_type": "markdown",
      "source": [
        "These predictions look very bad. Right now our model is making predictions using random parameters. To fix this we can use loss funnction and optimizers"
      ],
      "metadata": {
        "id": "byp4uw4A5FNX"
      }
    },
    {
      "cell_type": "markdown",
      "source": [
        "### Loss function & Optimizers in PyTorch\n",
        "* **Loss function** : Measures how well your model is performing. Lower the value better is the model. PyTorch has plenty of built in loss functions in `torch.nn`.\n",
        "\n",
        "For example MAE for regression problem(`torch.nn.L1Loss()`). For Classification binary cross entropy(`torch.nn.BCELoss()`)\n",
        "\n",
        "`nn.L1Loss()`Creates a criterion that measures the mean absolute error (MAE) between each element in the input x and target y. \n",
        "\n",
        "`nn.BCELoss()`Creates a criterion that measures the Binary Cross Entropy between the target and the input probabilities:\n",
        "\n",
        "* **Optimizer** : Tells the model how to update the internal parameters to lower the loss. Various optimization functions are present in `torch.optim`.\n",
        "\n",
        "For Example: `torch.optim.SGD()`, `torch.optim.Adam()`"
      ],
      "metadata": {
        "id": "aLK5b6gTObib"
      }
    },
    {
      "cell_type": "code",
      "source": [
        "# Create loss function\n",
        "loss_fun = nn.L1Loss() \n",
        "\n",
        "# Create the optimizer\n",
        "optimizer = torch.optim.SGD(\n",
        "    params=model_1.parameters(), \n",
        "    lr = 0.01\n",
        ")"
      ],
      "metadata": {
        "id": "E9o8QhGg3pnK"
      },
      "execution_count": 13,
      "outputs": []
    },
    {
      "cell_type": "markdown",
      "source": [
        "Let's put all steps together and try to improve our model"
      ],
      "metadata": {
        "id": "fAiooJi36Cns"
      }
    },
    {
      "cell_type": "code",
      "source": [
        "torch.manual_seed(42)\n",
        "epochs = 100\n",
        "\n",
        "# Create empty loss list to track values\n",
        "train_loss_values = []\n",
        "test_loss_values = []\n",
        "epoch_count = []\n",
        "\n",
        "for epoch in range(epochs):\n",
        "  model_1.train()\n",
        "\n",
        "  # Forward pass on train data using the forward() method\n",
        "  y_pred = model_1(X_train)\n",
        "\n",
        "  # Calculate loss\n",
        "  loss = loss_fun(y_pred, y_train)\n",
        "\n",
        "  # Zero grad of the optimizer\n",
        "  optimizer.zero_grad()\n",
        "\n",
        "  # Loss backward\n",
        "  loss.backward()\n",
        "\n",
        "  # Process the optimizer\n",
        "  optimizer.step()\n",
        "\n",
        "  ## Testing\n",
        "\n",
        "  # Put the model in evaluation mode\n",
        "  model_1.eval()\n",
        "\n",
        "  with torch.inference_mode():\n",
        "    test_pred = model_1(X_test)\n",
        "\n",
        "    # Calculate loss on test data\n",
        "    test_loss = loss_fun(test_pred, y_test.type(torch.float))\n",
        "\n",
        "    if epoch % 10 == 0:\n",
        "            epoch_count.append(epoch)\n",
        "            train_loss_values.append(loss.detach().numpy())\n",
        "            test_loss_values.append(test_loss.detach().numpy())\n",
        "            print(f\"Epoch: {epoch} | MAE Train Loss: {loss} | MAE Test Loss: {test_loss} \")\n"
      ],
      "metadata": {
        "colab": {
          "base_uri": "https://localhost:8080/"
        },
        "id": "F8adLcuDVPTI",
        "outputId": "32f70a7f-3485-491d-fb52-b115ef699ddf"
      },
      "execution_count": 14,
      "outputs": [
        {
          "output_type": "stream",
          "name": "stdout",
          "text": [
            "Epoch: 0 | MAE Train Loss: 0.2531720697879791 | MAE Test Loss: 0.2311546355485916 \n",
            "Epoch: 10 | MAE Train Loss: 0.1279716193675995 | MAE Test Loss: 0.10896619409322739 \n",
            "Epoch: 20 | MAE Train Loss: 0.017217198386788368 | MAE Test Loss: 0.015951961278915405 \n",
            "Epoch: 30 | MAE Train Loss: 0.009797533042728901 | MAE Test Loss: 0.010579342022538185 \n",
            "Epoch: 40 | MAE Train Loss: 0.0051111155189573765 | MAE Test Loss: 0.0053997160866856575 \n",
            "Epoch: 50 | MAE Train Loss: 0.010711098089814186 | MAE Test Loss: 0.0019882977940142155 \n",
            "Epoch: 60 | MAE Train Loss: 0.010711098089814186 | MAE Test Loss: 0.0019882977940142155 \n",
            "Epoch: 70 | MAE Train Loss: 0.010711098089814186 | MAE Test Loss: 0.0019882977940142155 \n",
            "Epoch: 80 | MAE Train Loss: 0.010711098089814186 | MAE Test Loss: 0.0019882977940142155 \n",
            "Epoch: 90 | MAE Train Loss: 0.010711098089814186 | MAE Test Loss: 0.0019882977940142155 \n"
          ]
        }
      ]
    },
    {
      "cell_type": "code",
      "source": [
        "# Plot the loss curves\n",
        "plt.plot(epoch_count, train_loss_values, label=\"Train loss\")\n",
        "plt.plot(epoch_count, test_loss_values, label=\"Test loss\")\n",
        "plt.title(\"Training and test loss curves\")\n",
        "plt.ylabel(\"Loss\")\n",
        "plt.xlabel(\"Epochs\")\n",
        "plt.legend();"
      ],
      "metadata": {
        "colab": {
          "base_uri": "https://localhost:8080/",
          "height": 295
        },
        "id": "9n6cDfG4YTA2",
        "outputId": "43d36e8b-e81b-4c2f-f05d-c4624a815a6b"
      },
      "execution_count": 15,
      "outputs": [
        {
          "output_type": "display_data",
          "data": {
            "text/plain": [
              "<Figure size 432x288 with 1 Axes>"
            ],
            "image/png": "[encoded data removed]"
          },
          "metadata": {
            "needs_background": "light"
          }
        }
      ]
    },
    {
      "cell_type": "code",
      "source": [
        "# Find our model's learned parameters\n",
        "print(\"The model learned the following values for weights and bias:\")\n",
        "print(model_1.state_dict())\n",
        "print(\"\\nAnd the original values for weights and bias are:\")\n",
        "print(f\"weights: {weight}, bias: {bias}\")"
      ],
      "metadata": {
        "colab": {
          "base_uri": "https://localhost:8080/"
        },
        "id": "ATmSbnvjYcka",
        "outputId": "7885fc1a-1304-488a-d688-0cd5acae2bdc"
      },
      "execution_count": 16,
      "outputs": [
        {
          "output_type": "stream",
          "name": "stdout",
          "text": [
            "The model learned the following values for weights and bias:\n",
            "OrderedDict([('weights', tensor([0.4920])), ('bias', tensor([0.2933]))])\n",
            "\n",
            "And the original values for weights and bias are:\n",
            "weights: 0.5, bias: 0.3\n"
          ]
        }
      ]
    },
    {
      "cell_type": "code",
      "source": [
        "# 1. Set the model in evaluation mode\n",
        "model_1.eval()\n",
        "\n",
        "# 2. Setup the inference mode context manager\n",
        "with torch.inference_mode():\n",
        "  # 3. Make sure the calculations are done with the model and data on the same device\n",
        "  # in our case, we haven't setup device-agnostic code yet so our data and model are\n",
        "  # on the CPU by default.\n",
        "  # model_0.to(device)\n",
        "  # X_test = X_test.to(device)\n",
        "  y_preds = model_1(X_test)\n",
        "y_preds"
      ],
      "metadata": {
        "colab": {
          "base_uri": "https://localhost:8080/"
        },
        "id": "iDKSUnm6Yllf",
        "outputId": "b2105bb4-4221-4045-bcc8-ddf096744ae4"
      },
      "execution_count": 17,
      "outputs": [
        {
          "output_type": "execute_result",
          "data": {
            "text/plain": [
              "tensor([[0.7164],\n",
              "        [0.3327],\n",
              "        [0.4901],\n",
              "        [0.7459],\n",
              "        [0.2933],\n",
              "        [0.4311],\n",
              "        [0.6475],\n",
              "        [0.5688],\n",
              "        [0.5295],\n",
              "        [0.3523]])"
            ]
          },
          "metadata": {},
          "execution_count": 17
        }
      ]
    },
    {
      "cell_type": "code",
      "source": [
        "plt_predictions(predictions=y_preds)"
      ],
      "metadata": {
        "colab": {
          "base_uri": "https://localhost:8080/",
          "height": 374
        },
        "id": "04AiLwJbYv1m",
        "outputId": "8f6326ec-042d-4885-dda8-d0f31708bb0e"
      },
      "execution_count": 19,
      "outputs": [
        {
          "output_type": "display_data",
          "data": {
            "text/plain": [
              "<Figure size 576x432 with 1 Axes>"
            ],
            "image/png": "[encoded data removed]"
          },
          "metadata": {
            "needs_background": "light"
          }
        }
      ]
    },
    {
      "cell_type": "markdown",
      "source": [
        "From the plot we can see that our predicted values are much closer to the actual test data"
      ],
      "metadata": {
        "id": "FncPcfhIYzmV"
      }
    },
    {
      "cell_type": "markdown",
      "source": [
        "### Saving & loading of Model\n",
        "\n",
        "* **`torch.save`:** Saves a serialized object to disk. This function uses Python’s pickle utility for serialization. Models, tensors, and dictionaries of all kinds of objects can be saved using this function.\n",
        "\n",
        "* **`torch.load`:** Uses pickle’s unpickling facilities to deserialize pickled object files to memory.\n",
        "\n",
        "* **`torch.nn.Module.load_state_dict`:**  Loads a model’s parameter dictionary using a deserialized state_dict.\n"
      ],
      "metadata": {
        "id": "eN_ocoWEjXeN"
      }
    },
    {
      "cell_type": "code",
      "source": [
        "from pathlib import Path\n",
        "\n",
        "# Create directory\n",
        "MODEL_PATH = Path('MODELS')\n",
        "MODEL_PATH.mkdir(parents=True, exist_ok=True)\n",
        "\n",
        "# Create modelsave path\n",
        "MODEL_NAME = 'model1'\n",
        "MODEL_SAVE_PATH = MODEL_PATH / MODEL_NAME\n",
        "\n",
        "# Save the model state_dict\n",
        "torch.save(obj = model_1.state_dict(),\n",
        "           f = MODEL_SAVE_PATH)"
      ],
      "metadata": {
        "id": "vg4CayH5jbd0"
      },
      "execution_count": 20,
      "outputs": []
    },
    {
      "cell_type": "code",
      "source": [
        "!ls -l MODELS/model1"
      ],
      "metadata": {
        "colab": {
          "base_uri": "https://localhost:8080/"
        },
        "id": "o_2P9vs4pwnJ",
        "outputId": "3e6878ec-06cd-4428-d283-1b6c21dc82da"
      },
      "execution_count": 21,
      "outputs": [
        {
          "output_type": "stream",
          "name": "stdout",
          "text": [
            "-rw-r--r-- 1 root root 1063 Nov 22 14:03 MODELS/model1\n"
          ]
        }
      ]
    },
    {
      "cell_type": "markdown",
      "source": [
        "### Loading a saved pytorch model"
      ],
      "metadata": {
        "id": "BjLHCETxp8PU"
      }
    },
    {
      "cell_type": "code",
      "source": [
        "# Instantiate a new instance of our model (this will be instantiated with random weights)\n",
        "loaded_model_1 = LinearRegressionModel()\n",
        "\n",
        "# Load the state_dict of our saved model (this will update the new instance of our model with trained weights)\n",
        "loaded_model_1.load_state_dict(torch.load(f=MODEL_SAVE_PATH))"
      ],
      "metadata": {
        "colab": {
          "base_uri": "https://localhost:8080/"
        },
        "id": "5Dp_zYAfqKYv",
        "outputId": "6f08aa57-f711-45d2-b7ac-a7d1a5dbfe8e"
      },
      "execution_count": 22,
      "outputs": [
        {
          "output_type": "execute_result",
          "data": {
            "text/plain": [
              "<All keys matched successfully>"
            ]
          },
          "metadata": {},
          "execution_count": 22
        }
      ]
    },
    {
      "cell_type": "code",
      "source": [
        "loaded_model_1.eval()\n",
        "\n",
        "with torch.inference_mode():\n",
        "  loaded_model_preds = loaded_model_1(X_test) "
      ],
      "metadata": {
        "id": "L7jIlX0jqKP2"
      },
      "execution_count": 23,
      "outputs": []
    },
    {
      "cell_type": "code",
      "source": [
        "y_preds == loaded_model_preds"
      ],
      "metadata": {
        "colab": {
          "base_uri": "https://localhost:8080/"
        },
        "id": "D5YWID3kqKEV",
        "outputId": "16cd23a3-57c7-40c4-b81c-e4ec551c05aa"
      },
      "execution_count": 24,
      "outputs": [
        {
          "output_type": "execute_result",
          "data": {
            "text/plain": [
              "tensor([[True],\n",
              "        [True],\n",
              "        [True],\n",
              "        [True],\n",
              "        [True],\n",
              "        [True],\n",
              "        [True],\n",
              "        [True],\n",
              "        [True],\n",
              "        [True]])"
            ]
          },
          "metadata": {},
          "execution_count": 24
        }
      ]
    },
    {
      "cell_type": "code",
      "source": [],
      "metadata": {
        "id": "902-lh2nqsiY"
      },
      "execution_count": null,
      "outputs": []
    }
  ]
}